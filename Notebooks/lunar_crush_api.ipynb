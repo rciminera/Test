{
 "cells": [
  {
   "cell_type": "code",
   "execution_count": 18,
   "id": "9ee04be4",
   "metadata": {},
   "outputs": [],
   "source": [
    "#  Import our dependencies\n",
    "from sklearn.model_selection import train_test_split\n",
    "from sklearn.preprocessing import StandardScaler\n",
    "from sklearn.ensemble import RandomForestClassifier\n",
    "from sklearn.metrics import accuracy_score\n",
    "from sklearn.preprocessing import OneHotEncoder\n",
    "import pandas as pd\n",
    "# import tensorflow as tf\n",
    "import glob\n",
    "import numpy as np\n",
    "# import yfinance as yf\n",
    "import plotly.graph_objs as go\n",
    "import json\n",
    "import re\n",
    "import requests\n",
    "import urllib.request\n",
    "from pandas.io.json import json_normalize"
   ]
  },
  {
   "cell_type": "code",
   "execution_count": 36,
   "id": "9c5621d1",
   "metadata": {},
   "outputs": [],
   "source": [
    "# import urllib.request\n",
    "url = \"https://api.lunarcrush.com/v2?data=assets&key=b9c27jge0ku5kvggiqykth&symbol=LTC&data_points=0\"\n",
    "# print(urllib.request.urlopen(url).read())\n",
    "# crypto_file = urllib.request.urlopen(url).read()"
   ]
  },
  {
   "cell_type": "code",
   "execution_count": 37,
   "id": "9879b6d6",
   "metadata": {},
   "outputs": [],
   "source": [
    "r = requests.get(url)"
   ]
  },
  {
   "cell_type": "code",
   "execution_count": 38,
   "id": "cd1786d0",
   "metadata": {},
   "outputs": [
    {
     "data": {
      "text/plain": [
       "<Response [200]>"
      ]
     },
     "execution_count": 38,
     "metadata": {},
     "output_type": "execute_result"
    }
   ],
   "source": [
    "r"
   ]
  },
  {
   "cell_type": "code",
   "execution_count": 39,
   "id": "37d2ccbb",
   "metadata": {},
   "outputs": [],
   "source": [
    "json = r.json()"
   ]
  },
  {
   "cell_type": "code",
   "execution_count": 40,
   "id": "f785d6b3",
   "metadata": {
    "scrolled": false
   },
   "outputs": [
    {
     "data": {
      "text/plain": [
       "{'config': {'data': 'assets',\n",
       "  'data_points': 0,\n",
       "  'symbol': \"'LTC'\",\n",
       "  'interval': 'hour'},\n",
       " 'usage': {'day': 11, 'month': 40},\n",
       " 'data': [{'id': 4,\n",
       "   'name': 'Litecoin',\n",
       "   'symbol': 'LTC',\n",
       "   'price': 132.52868735,\n",
       "   'price_btc': 0.004034802006993863,\n",
       "   'market_cap': 8846609873,\n",
       "   'percent_change_24h': -5.55,\n",
       "   'percent_change_7d': -3.7,\n",
       "   'percent_change_30d': -17.51,\n",
       "   'volume_24h': 1911862095.15,\n",
       "   'max_supply': '84000000',\n",
       "   'social_dominance_calc_24h_previous': 0,\n",
       "   'social_contributors_calc_24h_previous': 2290,\n",
       "   'url_shares_calc_24h_previous': 739,\n",
       "   'tweet_spam_calc_24h_previous': 1347,\n",
       "   'news_calc_24h_previous': 14,\n",
       "   'average_sentiment_calc_24h_previous': 3.7,\n",
       "   'social_score_calc_24h_previous': 10185938,\n",
       "   'social_volume_calc_24h_previous': 2454,\n",
       "   'alt_rank_30d_calc_24h_previous': 69,\n",
       "   'alt_rank_calc_24h_previous': 71,\n",
       "   'social_dominance_calc_24h': 0,\n",
       "   'social_dominance_calc_24h_percent': 0,\n",
       "   'social_contributors_calc_24h': 2204,\n",
       "   'social_contributors_calc_24h_percent': 96.24454148471617,\n",
       "   'url_shares_calc_24h': 808,\n",
       "   'url_shares_calc_24h_percent': 109.33694181326116,\n",
       "   'tweet_spam_calc_24h': 1488,\n",
       "   'tweet_spam_calc_24h_percent': 110.46770601336303,\n",
       "   'news_calc_24h': 11,\n",
       "   'news_calc_24h_percent': 78.57142857142857,\n",
       "   'average_sentiment_calc_24h': 3.7,\n",
       "   'average_sentiment_calc_24h_percent': 100,\n",
       "   'social_score_calc_24h': 8737883,\n",
       "   'social_score_calc_24h_percent': 85.78378348660674,\n",
       "   'social_volume_calc_24h': 2348,\n",
       "   'social_volume_calc_24h_percent': 95.68052159739202,\n",
       "   'asset_id': 4,\n",
       "   'time': 1625760000,\n",
       "   'open': 131.24698552,\n",
       "   'high': 132.15026829,\n",
       "   'low': 130.58901522,\n",
       "   'volume': 67821810.75,\n",
       "   'url_shares': 30,\n",
       "   'unique_url_shares': 28,\n",
       "   'reddit_posts': 1,\n",
       "   'reddit_posts_score': 1,\n",
       "   'reddit_comments': 3,\n",
       "   'reddit_comments_score': 12,\n",
       "   'tweets': 72,\n",
       "   'tweet_spam': 76,\n",
       "   'tweet_followers': 173935,\n",
       "   'tweet_quotes': 1,\n",
       "   'tweet_retweets': 13,\n",
       "   'tweet_replies': 8,\n",
       "   'tweet_favorites': 22,\n",
       "   'tweet_sentiment1': 0,\n",
       "   'tweet_sentiment2': 6,\n",
       "   'tweet_sentiment3': 6,\n",
       "   'tweet_sentiment4': 57,\n",
       "   'tweet_sentiment5': 3,\n",
       "   'tweet_sentiment_impact1': 0,\n",
       "   'tweet_sentiment_impact2': 7447,\n",
       "   'tweet_sentiment_impact3': 12262,\n",
       "   'tweet_sentiment_impact4': 154192,\n",
       "   'tweet_sentiment_impact5': 78,\n",
       "   'social_score': 174022,\n",
       "   'average_sentiment': 3.8,\n",
       "   'sentiment_absolute': 3,\n",
       "   'sentiment_relative': 91,\n",
       "   'price_score': 2.8,\n",
       "   'social_impact_score': 3.7,\n",
       "   'correlation_rank': 2.4,\n",
       "   'galaxy_score': 63.5,\n",
       "   'volatility': 0.03085638,\n",
       "   'alt_rank': 57,\n",
       "   'alt_rank_30d': 73,\n",
       "   'market_cap_rank': 15,\n",
       "   'percent_change_24h_rank': 1513,\n",
       "   'volume_24h_rank': 11,\n",
       "   'social_volume_24h_rank': 44,\n",
       "   'social_score_24h_rank': 17,\n",
       "   'social_contributors': 117,\n",
       "   'social_volume': 104,\n",
       "   'social_volume_global': 66406,\n",
       "   'social_dominance': 0.15661235430533385,\n",
       "   'market_cap_global': 1475036281915,\n",
       "   'market_dominance': 0.5965422301054328,\n",
       "   'tags': '',\n",
       "   'close': 132.52868735}]}"
      ]
     },
     "execution_count": 40,
     "metadata": {},
     "output_type": "execute_result"
    }
   ],
   "source": [
    "json"
   ]
  },
  {
   "cell_type": "code",
   "execution_count": 31,
   "id": "c20713ee",
   "metadata": {},
   "outputs": [
    {
     "data": {
      "text/plain": [
       "dict_keys(['config', 'usage', 'data'])"
      ]
     },
     "execution_count": 31,
     "metadata": {},
     "output_type": "execute_result"
    }
   ],
   "source": [
    "json.keys()"
   ]
  },
  {
   "cell_type": "code",
   "execution_count": 32,
   "id": "4fc5339e",
   "metadata": {},
   "outputs": [
    {
     "data": {
      "text/plain": [
       "list"
      ]
     },
     "execution_count": 32,
     "metadata": {},
     "output_type": "execute_result"
    }
   ],
   "source": [
    "type(json['data'])"
   ]
  },
  {
   "cell_type": "code",
   "execution_count": 15,
   "id": "dbf09e93",
   "metadata": {},
   "outputs": [
    {
     "ename": "AttributeError",
     "evalue": "'int' object has no attribute 'values'",
     "output_type": "error",
     "traceback": [
      "\u001b[0;31m---------------------------------------------------------------------------\u001b[0m",
      "\u001b[0;31mAttributeError\u001b[0m                            Traceback (most recent call last)",
      "\u001b[0;32m<ipython-input-15-984f838117c3>\u001b[0m in \u001b[0;36m<module>\u001b[0;34m\u001b[0m\n\u001b[0;32m----> 1\u001b[0;31m \u001b[0mdf\u001b[0m \u001b[0;34m=\u001b[0m \u001b[0mpd\u001b[0m\u001b[0;34m.\u001b[0m\u001b[0mjson_normalize\u001b[0m\u001b[0;34m(\u001b[0m\u001b[0mcrypto_file\u001b[0m\u001b[0;34m)\u001b[0m\u001b[0;34m\u001b[0m\u001b[0;34m\u001b[0m\u001b[0m\n\u001b[0m",
      "\u001b[0;32m~/opt/anaconda3/lib/python3.8/site-packages/pandas/io/json/_normalize.py\u001b[0m in \u001b[0;36m_json_normalize\u001b[0;34m(data, record_path, meta, meta_prefix, record_prefix, errors, sep, max_level)\u001b[0m\n\u001b[1;32m    268\u001b[0m \u001b[0;34m\u001b[0m\u001b[0m\n\u001b[1;32m    269\u001b[0m     \u001b[0;32mif\u001b[0m \u001b[0mrecord_path\u001b[0m \u001b[0;32mis\u001b[0m \u001b[0;32mNone\u001b[0m\u001b[0;34m:\u001b[0m\u001b[0;34m\u001b[0m\u001b[0;34m\u001b[0m\u001b[0m\n\u001b[0;32m--> 270\u001b[0;31m         \u001b[0;32mif\u001b[0m \u001b[0many\u001b[0m\u001b[0;34m(\u001b[0m\u001b[0;34m[\u001b[0m\u001b[0misinstance\u001b[0m\u001b[0;34m(\u001b[0m\u001b[0mx\u001b[0m\u001b[0;34m,\u001b[0m \u001b[0mdict\u001b[0m\u001b[0;34m)\u001b[0m \u001b[0;32mfor\u001b[0m \u001b[0mx\u001b[0m \u001b[0;32min\u001b[0m \u001b[0my\u001b[0m\u001b[0;34m.\u001b[0m\u001b[0mvalues\u001b[0m\u001b[0;34m(\u001b[0m\u001b[0;34m)\u001b[0m\u001b[0;34m]\u001b[0m \u001b[0;32mfor\u001b[0m \u001b[0my\u001b[0m \u001b[0;32min\u001b[0m \u001b[0mdata\u001b[0m\u001b[0;34m)\u001b[0m\u001b[0;34m:\u001b[0m\u001b[0;34m\u001b[0m\u001b[0;34m\u001b[0m\u001b[0m\n\u001b[0m\u001b[1;32m    271\u001b[0m             \u001b[0;31m# naive normalization, this is idempotent for flat records\u001b[0m\u001b[0;34m\u001b[0m\u001b[0;34m\u001b[0m\u001b[0;34m\u001b[0m\u001b[0m\n\u001b[1;32m    272\u001b[0m             \u001b[0;31m# and potentially will inflate the data considerably for\u001b[0m\u001b[0;34m\u001b[0m\u001b[0;34m\u001b[0m\u001b[0;34m\u001b[0m\u001b[0m\n",
      "\u001b[0;32m~/opt/anaconda3/lib/python3.8/site-packages/pandas/io/json/_normalize.py\u001b[0m in \u001b[0;36m<genexpr>\u001b[0;34m(.0)\u001b[0m\n\u001b[1;32m    268\u001b[0m \u001b[0;34m\u001b[0m\u001b[0m\n\u001b[1;32m    269\u001b[0m     \u001b[0;32mif\u001b[0m \u001b[0mrecord_path\u001b[0m \u001b[0;32mis\u001b[0m \u001b[0;32mNone\u001b[0m\u001b[0;34m:\u001b[0m\u001b[0;34m\u001b[0m\u001b[0;34m\u001b[0m\u001b[0m\n\u001b[0;32m--> 270\u001b[0;31m         \u001b[0;32mif\u001b[0m \u001b[0many\u001b[0m\u001b[0;34m(\u001b[0m\u001b[0;34m[\u001b[0m\u001b[0misinstance\u001b[0m\u001b[0;34m(\u001b[0m\u001b[0mx\u001b[0m\u001b[0;34m,\u001b[0m \u001b[0mdict\u001b[0m\u001b[0;34m)\u001b[0m \u001b[0;32mfor\u001b[0m \u001b[0mx\u001b[0m \u001b[0;32min\u001b[0m \u001b[0my\u001b[0m\u001b[0;34m.\u001b[0m\u001b[0mvalues\u001b[0m\u001b[0;34m(\u001b[0m\u001b[0;34m)\u001b[0m\u001b[0;34m]\u001b[0m \u001b[0;32mfor\u001b[0m \u001b[0my\u001b[0m \u001b[0;32min\u001b[0m \u001b[0mdata\u001b[0m\u001b[0;34m)\u001b[0m\u001b[0;34m:\u001b[0m\u001b[0;34m\u001b[0m\u001b[0;34m\u001b[0m\u001b[0m\n\u001b[0m\u001b[1;32m    271\u001b[0m             \u001b[0;31m# naive normalization, this is idempotent for flat records\u001b[0m\u001b[0;34m\u001b[0m\u001b[0;34m\u001b[0m\u001b[0;34m\u001b[0m\u001b[0m\n\u001b[1;32m    272\u001b[0m             \u001b[0;31m# and potentially will inflate the data considerably for\u001b[0m\u001b[0;34m\u001b[0m\u001b[0;34m\u001b[0m\u001b[0;34m\u001b[0m\u001b[0m\n",
      "\u001b[0;31mAttributeError\u001b[0m: 'int' object has no attribute 'values'"
     ]
    }
   ],
   "source": [
    "df = pd.json_normalize(crypto_file)"
   ]
  },
  {
   "cell_type": "code",
   "execution_count": 6,
   "id": "e63e4dcf",
   "metadata": {},
   "outputs": [
    {
     "data": {
      "text/plain": [
       "b'{\"config\":{\"change\":\"1y\",\"data\":\"assets\",\"symbol\":\"\\'BTC\\'\"},\"usage\":{\"day\":3,\"month\":32},\"data\":[{\"id\":1,\"name\":\"Bitcoin\",\"symbol\":\"BTC\",\"price\":32663.48041116,\"price_btc\":1,\"market_cap\":612470667409,\"percent_change_24h\":-6.31,\"percent_change_7d\":-2.56,\"percent_change_30d\":-2.03,\"volume_24h\":29011078827.93,\"max_supply\":\"21000000\",\"timeSeries\":[{\"asset_id\":1,\"time\":1625659200,\"open\":34836.99266653,\"close\":34859.10377055,\"high\":35005.13305039,\"low\":34756.47562909,\"volume\":1283850623.91,\"market_cap\":652918448736,\"url_shares\":4553,\"unique_url_shares\":1499,\"reddit_posts\":57,\"reddit_posts_score\":873,\"reddit_comments\":38,\"reddit_comments_score\":209,\"tweets\":20260,\"tweet_spam\":7392,\"tweet_followers\":60836832,\"tweet_quotes\":281,\"tweet_retweets\":5498,\"tweet_replies\":2141,\"tweet_favorites\":31042,\"tweet_sentiment1\":391,\"tweet_sentiment2\":1459,\"tweet_sentiment3\":3374,\"tweet_sentiment4\":13666,\"tweet_sentiment5\":1370,\"tweet_sentiment_impact1\":2290580,\"tweet_sentiment_impact2\":9932874,\"tweet_sentiment_impact3\":3861692,\"tweet_sentiment_impact4\":40052263,\"tweet_sentiment_impact5\":4738385,\"social_score\":60881429,\"average_sentiment\":3.7,\"sentiment_absolute\":3,\"sentiment_relative\":89,\"search_average\":null,\"news\":29,\"price_score\":3,\"social_impact_score\":4.1,\"correlation_rank\":3.2,\"galaxy_score\":70,\"volatility\":0.01033115,\"alt_rank\":64,\"alt_rank_30d\":8,\"market_cap_rank\":1,\"percent_change_24h_rank\":994,\"volume_24h_rank\":3,\"social_volume_24h_rank\":1,\"social_score_24h_rank\":1,\"medium\":1,\"youtube\":null,\"social_contributors\":18771,\"social_volume\":21883,\"price_btc\":1,\"social_volume_global\":60970,\"social_dominance\":35.891422010824996,\"market_cap_global\":1572464424065,\"market_dominance\":41.521985409891265,\"percent_change_24h\":1.2789782580344662},{\"asset_id\":1,\"time\":1625662800,\"open\":34862.31170062,\"close\":34836.42085987,\"high\":34873.43243564,\"low\":34738.18059125,\"volume\":1003807474.27,\"market_cap\":653139558672,\"url_shares\":5440,\"unique_url_shares\":1889,\"reddit_posts\":115,\"reddit_posts_score\":601,\"reddit_comments\":106,\"reddit_comments_score\":1020,\"tweets\":19359,\"tweet_spam\":9600,\"tweet_followers\":93497493,\"tweet_quotes\":354,\"tweet_retweets\":4674,\"tweet_replies\":2232,\"tweet_favorites\":27538,\"tweet_sentiment1\":410,\"tweet_sentiment2\":1438,\"tweet_sentiment3\":2481,\"tweet_sentiment4\":12551,\"tweet_sentiment5\":2479,\"tweet_sentiment_impact1\":6513680,\"tweet_sentiment_impact2\":8573268,\"tweet_sentiment_impact3\":5305358,\"tweet_sentiment_impact4\":68170194,\"tweet_sentiment_impact5\":4969791,\"social_score\":93539352,\"average_sentiment\":3.8,\"sentiment_absolute\":3,\"sentiment_relative\":89,\"search_average\":null,\"news\":36,\"price_score\":3,\"social_impact_score\":4.1,\"correlation_rank\":3.5,\"galaxy_score\":72,\"volatility\":0.01037975,\"alt_rank\":59,\"alt_rank_30d\":8,\"market_cap_rank\":1,\"percent_change_24h_rank\":950,\"volume_24h_rank\":3,\"social_volume_24h_rank\":1,\"social_score_24h_rank\":1,\"medium\":1,\"youtube\":null,\"social_contributors\":19419,\"social_volume\":21505,\"price_btc\":1,\"social_volume_global\":68799,\"social_dominance\":31.25772176921176,\"market_cap_global\":1576568962401,\"market_dominance\":41.427909228741626,\"percent_change_24h\":1.8833039113115297},{\"asset_id\":1,\"time\":1625666400,\"open\":34831.86186219,\"close\":34658.33491783,\"high\":34831.86186219,\"low\":34612.87970356,\"volume\":1139822319.19,\"market_cap\":649690054935,\"url_shares\":4300,\"unique_url_shares\":1792,\"reddit_posts\":70,\"reddit_posts_score\":1441,\"reddit_comments\":137,\"reddit_comments_score\":433,\"tweets\":16944,\"tweet_spam\":7586,\"tweet_followers\":68110921,\"tweet_quotes\":527,\"tweet_retweets\":6150,\"tweet_replies\":1758,\"tweet_favorites\":20743,\"tweet_sentiment1\":459,\"tweet_sentiment2\":1466,\"tweet_sentiment3\":1979,\"tweet_sentiment4\":11262,\"tweet_sentiment5\":1778,\"tweet_sentiment_impact1\":5329527,\"tweet_sentiment_impact2\":6552048,\"tweet_sentiment_impact3\":13129308,\"tweet_sentiment_impact4\":32242159,\"tweet_sentiment_impact5\":10887057,\"social_score\":68146273,\"average_sentiment\":3.7,\"sentiment_absolute\":3,\"sentiment_relative\":87,\"search_average\":null,\"news\":25,\"price_score\":2.8,\"social_impact_score\":4.1,\"correlation_rank\":3.1,\"galaxy_score\":68.5,\"volatility\":0.01046064,\"alt_rank\":63,\"alt_rank_30d\":8,\"market_cap_rank\":1,\"percent_change_24h_rank\":986,\"volume_24h_rank\":3,\"social_volume_24h_rank\":1,\"social_score_24h_rank\":1,\"medium\":1,\"youtube\":1,\"social_contributors\":16459,\"social_volume\":18968,\"price_btc\":1,\"social_volume_global\":67576,\"social_dominance\":28.069136971705934,\"market_cap_global\":1562990534805,\"market_dominance\":41.56711384154709,\"percent_change_24h\":1.3773524861899304},{\"asset_id\":1,\"time\":1625670000,\"open\":34641.07392731,\"close\":34552.22510457,\"high\":34641.07392731,\"low\":34552.22510457,\"volume\":1040331055.01,\"market_cap\":647995706820,\"url_shares\":3309,\"unique_url_shares\":1368,\"reddit_posts\":55,\"reddit_posts_score\":306,\"reddit_comments\":97,\"reddit_comments_score\":530,\"tweets\":18478,\"tweet_spam\":11372,\"tweet_followers\":63335651,\"tweet_quotes\":277,\"tweet_retweets\":4749,\"tweet_replies\":1578,\"tweet_favorites\":19760,\"tweet_sentiment1\":498,\"tweet_sentiment2\":1277,\"tweet_sentiment3\":2600,\"tweet_sentiment4\":12749,\"tweet_sentiment5\":1354,\"tweet_sentiment_impact1\":1242016,\"tweet_sentiment_impact2\":6706357,\"tweet_sentiment_impact3\":9735239,\"tweet_sentiment_impact4\":38194978,\"tweet_sentiment_impact5\":7483425,\"social_score\":63366160,\"average_sentiment\":3.7,\"sentiment_absolute\":3,\"sentiment_relative\":89,\"search_average\":null,\"news\":25,\"price_score\":2.7,\"social_impact_score\":4.1,\"correlation_rank\":3.2,\"galaxy_score\":68.5,\"volatility\":0.01036936,\"alt_rank\":54,\"alt_rank_30d\":8,\"market_cap_rank\":1,\"percent_change_24h_rank\":900,\"volume_24h_rank\":3,\"social_volume_24h_rank\":1,\"social_score_24h_rank\":1,\"medium\":1,\"youtube\":1,\"social_contributors\":18793,\"social_volume\":20023,\"price_btc\":1,\"social_volume_global\":67692,\"social_dominance\":29.579566270755777,\"market_cap_global\":1559139681507,\"market_dominance\":41.56110671198325,\"percent_change_24h\":1.2867682740748274},{\"asset_id\":1,\"time\":1625673600,\"open\":34575.32894525,\"close\":34614.92455472,\"high\":34639.43871342,\"low\":34566.58529947,\"volume\":902870011.55,\"market_cap\":648902653591,\"url_shares\":3302,\"unique_url_shares\":1662,\"reddit_posts\":94,\"reddit_posts_score\":487,\"reddit_comments\":126,\"reddit_comments_score\":425,\"tweets\":16794,\"tweet_spam\":14369,\"tweet_followers\":56789617,\"tweet_quotes\":220,\"tweet_retweets\":3865,\"tweet_replies\":1512,\"tweet_favorites\":21439,\"tweet_sentiment1\":517,\"tweet_sentiment2\":1300,\"tweet_sentiment3\":2311,\"tweet_sentiment4\":11543,\"tweet_sentiment5\":1123,\"tweet_sentiment_impact1\":6855303,\"tweet_sentiment_impact2\":8402215,\"tweet_sentiment_impact3\":4081219,\"tweet_sentiment_impact4\":33382332,\"tweet_sentiment_impact5\":4095584,\"social_score\":56820867,\"average_sentiment\":3.7,\"sentiment_absolute\":3,\"sentiment_relative\":87,\"search_average\":null,\"news\":19,\"price_score\":2.8,\"social_impact_score\":4.1,\"correlation_rank\":3,\"galaxy_score\":68,\"volatility\":0.01000571,\"alt_rank\":70,\"alt_rank_30d\":8,\"market_cap_rank\":1,\"percent_change_24h_rank\":972,\"volume_24h_rank\":3,\"social_volume_24h_rank\":1,\"social_score_24h_rank\":1,\"medium\":null,\"youtube\":null,\"social_contributors\":18283,\"social_volume\":18695,\"price_btc\":1,\"social_volume_global\":64997,\"social_dominance\":28.762865978429776,\"market_cap_global\":1564930789492,\"market_dominance\":41.46526210284632,\"percent_change_24h\":1.4389789203685026},{\"asset_id\":1,\"time\":1625677200,\"open\":34625.17500058,\"close\":34695.15468994,\"high\":34710.55380568,\"low\":34602.5818561,\"volume\":760000504.57,\"market_cap\":650158084329,\"url_shares\":4362,\"unique_url_shares\":2057,\"reddit_posts\":125,\"reddit_posts_score\":1594,\"reddit_comments\":201,\"reddit_comments_score\":633,\"tweets\":14951,\"tweet_spam\":10494,\"tweet_followers\":59585607,\"tweet_quotes\":173,\"tweet_retweets\":3050,\"tweet_replies\":1614,\"tweet_favorites\":16026,\"tweet_sentiment1\":425,\"tweet_sentiment2\":1164,\"tweet_sentiment3\":2071,\"tweet_sentiment4\":10145,\"tweet_sentiment5\":1146,\"tweet_sentiment_impact1\":797846,\"tweet_sentiment_impact2\":5403655,\"tweet_sentiment_impact3\":7317943,\"tweet_sentiment_impact4\":41564164,\"tweet_sentiment_impact5\":4522862,\"social_score\":59613059,\"average_sentiment\":3.7,\"sentiment_absolute\":3,\"sentiment_relative\":88,\"search_average\":null,\"news\":19,\"price_score\":2.9,\"social_impact_score\":3.6,\"correlation_rank\":2.8,\"galaxy_score\":65,\"volatility\":0.00999569,\"alt_rank\":51,\"alt_rank_30d\":8,\"market_cap_rank\":1,\"percent_change_24h_rank\":884,\"volume_24h_rank\":3,\"social_volume_24h_rank\":1,\"social_score_24h_rank\":1,\"medium\":null,\"youtube\":null,\"social_contributors\":15769,\"social_volume\":17353,\"price_btc\":1,\"social_volume_global\":64215,\"social_dominance\":27.023281164836877,\"market_cap_global\":1567529175227,\"market_dominance\":41.47661776278251,\"percent_change_24h\":2.015142741631213},{\"asset_id\":1,\"time\":1625680800,\"open\":34691.88193052,\"close\":34727.34674133,\"high\":34797.17322368,\"low\":34666.96244143,\"volume\":865656555.47,\"market_cap\":651147613528,\"url_shares\":3497,\"unique_url_shares\":1924,\"reddit_posts\":166,\"reddit_posts_score\":257,\"reddit_comments\":153,\"reddit_comments_score\":408,\"tweets\":13124,\"tweet_spam\":7314,\"tweet_followers\":55632618,\"tweet_quotes\":292,\"tweet_retweets\":6340,\"tweet_replies\":2808,\"tweet_favorites\":20671,\"tweet_sentiment1\":414,\"tweet_sentiment2\":1417,\"tweet_sentiment3\":1704,\"tweet_sentiment4\":8842,\"tweet_sentiment5\":747,\"tweet_sentiment_impact1\":1209775,\"tweet_sentiment_impact2\":11055745,\"tweet_sentiment_impact3\":6038439,\"tweet_sentiment_impact4\":33401985,\"tweet_sentiment_impact5\":3956785,\"social_score\":55666891,\"average_sentiment\":3.6,\"sentiment_absolute\":3,\"sentiment_relative\":84,\"search_average\":null,\"news\":25,\"price_score\":3,\"social_impact_score\":4.1,\"correlation_rank\":2.5,\"galaxy_score\":66,\"volatility\":0.00971366,\"alt_rank\":49,\"alt_rank_30d\":8,\"market_cap_rank\":1,\"percent_change_24h_rank\":854,\"volume_24h_rank\":3,\"social_volume_24h_rank\":1,\"social_score_24h_rank\":1,\"medium\":1,\"youtube\":null,\"social_contributors\":12823,\"social_volume\":15392,\"price_btc\":1,\"social_volume_global\":55193,\"social_dominance\":27.887594441324083,\"market_cap_global\":1570366204228,\"market_dominance\":41.46469860182119,\"percent_change_24h\":2.3964156857718075},{\"asset_id\":1,\"time\":1625684400,\"open\":34716.02317867,\"close\":34664.03709021,\"high\":34732.49858688,\"low\":34653.00022642,\"volume\":808449816.83,\"market_cap\":649458036669,\"url_shares\":2482,\"unique_url_shares\":1246,\"reddit_posts\":54,\"reddit_posts_score\":139,\"reddit_comments\":89,\"reddit_comments_score\":268,\"tweets\":11534,\"tweet_spam\":6342,\"tweet_followers\":106635593,\"tweet_quotes\":191,\"tweet_retweets\":2426,\"tweet_replies\":2236,\"tweet_favorites\":11924,\"tweet_sentiment1\":409,\"tweet_sentiment2\":1082,\"tweet_sentiment3\":1448,\"tweet_sentiment4\":8085,\"tweet_sentiment5\":510,\"tweet_sentiment_impact1\":6771302,\"tweet_sentiment_impact2\":5739945,\"tweet_sentiment_impact3\":3732888,\"tweet_sentiment_impact4\":83830918,\"tweet_sentiment_impact5\":6577317,\"social_score\":106655259,\"average_sentiment\":3.6,\"sentiment_absolute\":3,\"sentiment_relative\":85,\"search_average\":null,\"news\":24,\"price_score\":2.9,\"social_impact_score\":4.1,\"correlation_rank\":2.7,\"galaxy_score\":66.5,\"volatility\":0.00951715,\"alt_rank\":62,\"alt_rank_30d\":8,\"market_cap_rank\":1,\"percent_change_24h_rank\":919,\"volume_24h_rank\":3,\"social_volume_24h_rank\":1,\"social_score_24h_rank\":1,\"medium\":1,\"youtube\":null,\"social_contributors\":11801,\"social_volume\":12947,\"price_btc\":1,\"social_volume_global\":53100,\"social_dominance\":24.38229755178908,\"market_cap_global\":1570171627881,\"market_dominance\":41.36223232777844,\"percent_change_24h\":1.6685533178452587},{\"asset_id\":1,\"time\":1625688000,\"open\":34660.44612211,\"close\":34570.19133457,\"high\":34660.44612211,\"low\":34556.82187894,\"volume\":722909735.95,\"market_cap\":648342881142,\"url_shares\":2067,\"unique_url_shares\":1181,\"reddit_posts\":68,\"reddit_posts_score\":195,\"reddit_comments\":137,\"reddit_comments_score\":320,\"tweets\":12058,\"tweet_spam\":4651,\"tweet_followers\":45276103,\"tweet_quotes\":1147,\"tweet_retweets\":5456,\"tweet_replies\":2878,\"tweet_favorites\":16017,\"tweet_sentiment1\":1017,\"tweet_sentiment2\":1030,\"tweet_sentiment3\":1323,\"tweet_sentiment4\":8091,\"tweet_sentiment5\":597,\"tweet_sentiment_impact1\":2111897,\"tweet_sentiment_impact2\":5412187,\"tweet_sentiment_impact3\":4036149,\"tweet_sentiment_impact4\":28866880,\"tweet_sentiment_impact5\":4874488,\"social_score\":45304183,\"average_sentiment\":3.5,\"sentiment_absolute\":3,\"sentiment_relative\":81,\"search_average\":null,\"news\":22,\"price_score\":3.2,\"social_impact_score\":4.1,\"correlation_rank\":2.7,\"galaxy_score\":67.5,\"volatility\":0.00927513,\"alt_rank\":72,\"alt_rank_30d\":8,\"market_cap_rank\":1,\"percent_change_24h_rank\":969,\"volume_24h_rank\":3,\"social_volume_24h_rank\":1,\"social_score_24h_rank\":1,\"medium\":1,\"youtube\":null,\"social_contributors\":10432,\"social_volume\":13466,\"price_btc\":1,\"social_volume_global\":47334,\"social_dominance\":28.448895085984706,\"market_cap_global\":1562212783124,\"market_dominance\":41.501573162491404,\"percent_change_24h\":1.6597722909839314},{\"asset_id\":1,\"time\":1625691600,\"open\":34565.31127034,\"close\":34278.83388604,\"high\":34565.31127034,\"low\":34214.34488758,\"volume\":1048497953.96,\"market_cap\":643282337347,\"url_shares\":2383,\"unique_url_shares\":1096,\"reddit_posts\":119,\"reddit_posts_score\":391,\"reddit_comments\":153,\"reddit_comments_score\":312,\"tweets\":10047,\"tweet_spam\":4297,\"tweet_followers\":35474478,\"tweet_quotes\":136,\"tweet_retweets\":2193,\"tweet_replies\":867,\"tweet_favorites\":9615,\"tweet_sentiment1\":527,\"tweet_sentiment2\":995,\"tweet_sentiment3\":1119,\"tweet_sentiment4\":6813,\"tweet_sentiment5\":593,\"tweet_sentiment_impact1\":1031196,\"tweet_sentiment_impact2\":4635971,\"tweet_sentiment_impact3\":3284907,\"tweet_sentiment_impact4\":22485801,\"tweet_sentiment_impact5\":4049414,\"social_score\":35490375,\"average_sentiment\":3.6,\"sentiment_absolute\":3,\"sentiment_relative\":83,\"search_average\":null,\"news\":15,\"price_score\":3.6,\"social_impact_score\":4.1,\"correlation_rank\":2.6,\"galaxy_score\":69.5,\"volatility\":0.00926153,\"alt_rank\":83,\"alt_rank_30d\":8,\"market_cap_rank\":1,\"percent_change_24h_rank\":1051,\"volume_24h_rank\":3,\"social_volume_24h_rank\":1,\"social_score_24h_rank\":1,\"medium\":2,\"youtube\":1,\"social_contributors\":9259,\"social_volume\":11430,\"price_btc\":1,\"social_volume_global\":41356,\"social_dominance\":27.638069445787792,\"market_cap_global\":1555001304999,\"market_dominance\":41.36860434000817,\"percent_change_24h\":1.372184979385931},{\"asset_id\":1,\"time\":1625695200,\"open\":34280.9669961,\"close\":34214.0196239,\"high\":34286.19948799,\"low\":34147.65010917,\"volume\":877753404.56,\"market_cap\":641573814427,\"url_shares\":2268,\"unique_url_shares\":1038,\"reddit_posts\":109,\"reddit_posts_score\":286,\"reddit_comments\":82,\"reddit_comments_score\":138,\"tweets\":9777,\"tweet_spam\":3469,\"tweet_followers\":38918660,\"tweet_quotes\":95,\"tweet_retweets\":1659,\"tweet_replies\":791,\"tweet_favorites\":7281,\"tweet_sentiment1\":374,\"tweet_sentiment2\":904,\"tweet_sentiment3\":1081,\"tweet_sentiment4\":6784,\"tweet_sentiment5\":634,\"tweet_sentiment_impact1\":1090931,\"tweet_sentiment_impact2\":5312011,\"tweet_sentiment_impact3\":2994176,\"tweet_sentiment_impact4\":25558417,\"tweet_sentiment_impact5\":3972951,\"social_score\":38931178,\"average_sentiment\":3.7,\"sentiment_absolute\":3,\"sentiment_relative\":85,\"search_average\":null,\"news\":19,\"price_score\":3.7,\"social_impact_score\":4.1,\"correlation_rank\":2.7,\"galaxy_score\":71,\"volatility\":0.00918277,\"alt_rank\":68,\"alt_rank_30d\":8,\"market_cap_rank\":1,\"percent_change_24h_rank\":1050,\"volume_24h_rank\":3,\"social_volume_24h_rank\":1,\"social_score_24h_rank\":1,\"medium\":1,\"youtube\":1,\"social_contributors\":8499,\"social_volume\":11025,\"price_btc\":1,\"social_volume_global\":39404,\"social_dominance\":27.979392955029947,\"market_cap_global\":1547048242319,\"market_dominance\":41.47083438492463,\"percent_change_24h\":0.37688107961561246},{\"asset_id\":1,\"time\":1625698800,\"open\":34200.23956619,\"close\":33905.50818762,\"high\":34200.23956619,\"low\":33905.50818762,\"volume\":1393519603.95,\"market_cap\":636275595332,\"url_shares\":2049,\"unique_url_shares\":920,\"reddit_posts\":63,\"reddit_posts_score\":205,\"reddit_comments\":134,\"reddit_comments_score\":260,\"tweets\":9052,\"tweet_spam\":3158,\"tweet_followers\":25855519,\"tweet_quotes\":153,\"tweet_retweets\":1634,\"tweet_replies\":804,\"tweet_favorites\":7692,\"tweet_sentiment1\":325,\"tweet_sentiment2\":789,\"tweet_sentiment3\":895,\"tweet_sentiment4\":6330,\"tweet_sentiment5\":713,\"tweet_sentiment_impact1\":2164098,\"tweet_sentiment_impact2\":3386519,\"tweet_sentiment_impact3\":2305119,\"tweet_sentiment_impact4\":14302838,\"tweet_sentiment_impact5\":3707228,\"social_score\":25868316,\"average_sentiment\":3.7,\"sentiment_absolute\":3,\"sentiment_relative\":86,\"search_average\":null,\"news\":10,\"price_score\":3.9,\"social_impact_score\":4.1,\"correlation_rank\":2.4,\"galaxy_score\":70.5,\"volatility\":0.00942213,\"alt_rank\":131,\"alt_rank_30d\":9,\"market_cap_rank\":1,\"percent_change_24h_rank\":1521,\"volume_24h_rank\":3,\"social_volume_24h_rank\":1,\"social_score_24h_rank\":1,\"medium\":null,\"youtube\":null,\"social_contributors\":7770,\"social_volume\":10179,\"price_btc\":1,\"social_volume_global\":35283,\"social_dominance\":28.84958762010033,\"market_cap_global\":1534628881194,\"market_dominance\":41.461202974164884,\"percent_change_24h\":-1.1098887413762335},{\"asset_id\":1,\"time\":1625702400,\"open\":33887.40185597,\"close\":33253.04200495,\"high\":33887.40185597,\"low\":33160.76755952,\"volume\":2168704301.75,\"market_cap\":625631011337,\"url_shares\":1947,\"unique_url_shares\":902,\"reddit_posts\":76,\"reddit_posts_score\":275,\"reddit_comments\":135,\"reddit_comments_score\":313,\"tweets\":8760,\"tweet_spam\":3572,\"tweet_followers\":37328165,\"tweet_quotes\":116,\"tweet_retweets\":1577,\"tweet_replies\":916,\"tweet_favorites\":7120,\"tweet_sentiment1\":322,\"tweet_sentiment2\":772,\"tweet_sentiment3\":763,\"tweet_sentiment4\":6234,\"tweet_sentiment5\":669,\"tweet_sentiment_impact1\":1017802,\"tweet_sentiment_impact2\":5274182,\"tweet_sentiment_impact3\":2331745,\"tweet_sentiment_impact4\":24923347,\"tweet_sentiment_impact5\":3790818,\"social_score\":37340429,\"average_sentiment\":3.7,\"sentiment_absolute\":3,\"sentiment_relative\":86,\"search_average\":null,\"news\":11,\"price_score\":4,\"social_impact_score\":4.1,\"correlation_rank\":2.7,\"galaxy_score\":72.5,\"volatility\":0.01056635,\"alt_rank\":119,\"alt_rank_30d\":10,\"market_cap_rank\":1,\"percent_change_24h_rank\":1578,\"volume_24h_rank\":3,\"social_volume_24h_rank\":1,\"social_score_24h_rank\":1,\"medium\":2,\"youtube\":null,\"social_contributors\":7954,\"social_volume\":9884,\"price_btc\":1,\"social_volume_global\":35052,\"social_dominance\":28.198105671573664,\"market_cap_global\":1509811170559,\"market_dominance\":41.437699199520644,\"percent_change_24h\":-2.702092569397915},{\"asset_id\":1,\"time\":1625706000,\"open\":33254.73576108,\"close\":33353.50581036,\"high\":33415.17100182,\"low\":33254.73576108,\"volume\":1349513788.4,\"market_cap\":626857817303,\"url_shares\":1722,\"unique_url_shares\":1026,\"reddit_posts\":48,\"reddit_posts_score\":119,\"reddit_comments\":122,\"reddit_comments_score\":251,\"tweets\":8833,\"tweet_spam\":3902,\"tweet_followers\":33953577,\"tweet_quotes\":132,\"tweet_retweets\":2143,\"tweet_replies\":1107,\"tweet_favorites\":11938,\"tweet_sentiment1\":295,\"tweet_sentiment2\":881,\"tweet_sentiment3\":835,\"tweet_sentiment4\":6436,\"tweet_sentiment5\":386,\"tweet_sentiment_impact1\":1293700,\"tweet_sentiment_impact2\":4070214,\"tweet_sentiment_impact3\":1804246,\"tweet_sentiment_impact4\":23459198,\"tweet_sentiment_impact5\":3341539,\"social_score\":33970989,\"average_sentiment\":3.6,\"sentiment_absolute\":3,\"sentiment_relative\":85,\"search_average\":null,\"news\":10,\"price_score\":3.5,\"social_impact_score\":3.6,\"correlation_rank\":2.9,\"galaxy_score\":68,\"volatility\":0.01115259,\"alt_rank\":113,\"alt_rank_30d\":10,\"market_cap_rank\":1,\"percent_change_24h_rank\":1538,\"volume_24h_rank\":2,\"social_volume_24h_rank\":1,\"social_score_24h_rank\":1,\"medium\":3,\"youtube\":null,\"social_contributors\":8373,\"social_volume\":10039,\"price_btc\":1,\"social_volume_global\":36134,\"social_dominance\":27.78269773620413,\"market_cap_global\":1514328328954,\"market_dominance\":41.395106022746916,\"percent_change_24h\":-2.615585794319988},{\"asset_id\":1,\"time\":1625709600,\"open\":33356.05217327,\"close\":33433.08717838,\"high\":33433.08717838,\"low\":33356.05217327,\"volume\":1109026417.05,\"market_cap\":627494036181,\"url_shares\":1870,\"unique_url_shares\":983,\"reddit_posts\":45,\"reddit_posts_score\":90,\"reddit_comments\":78,\"reddit_comments_score\":178,\"tweets\":8376,\"tweet_spam\":4594,\"tweet_followers\":25594673,\"tweet_quotes\":96,\"tweet_retweets\":1466,\"tweet_replies\":924,\"tweet_favorites\":8273,\"tweet_sentiment1\":226,\"tweet_sentiment2\":889,\"tweet_sentiment3\":851,\"tweet_sentiment4\":6066,\"tweet_sentiment5\":344,\"tweet_sentiment_impact1\":826489,\"tweet_sentiment_impact2\":4157294,\"tweet_sentiment_impact3\":1792731,\"tweet_sentiment_impact4\":15820107,\"tweet_sentiment_impact5\":3008811,\"social_score\":25607570,\"average_sentiment\":3.6,\"sentiment_absolute\":3,\"sentiment_relative\":85,\"search_average\":null,\"news\":8,\"price_score\":3.3,\"social_impact_score\":3.6,\"correlation_rank\":2.6,\"galaxy_score\":65.5,\"volatility\":0.01187067,\"alt_rank\":116,\"alt_rank_30d\":10,\"market_cap_rank\":1,\"percent_change_24h_rank\":1547,\"volume_24h_rank\":2,\"social_volume_24h_rank\":1,\"social_score_24h_rank\":1,\"medium\":null,\"youtube\":1,\"social_contributors\":8128,\"social_volume\":9490,\"price_btc\":1,\"social_volume_global\":35887,\"social_dominance\":26.44411625379664,\"market_cap_global\":1518160516977,\"market_dominance\":41.33252242855598,\"percent_change_24h\":-2.5387635149116647},{\"asset_id\":1,\"time\":1625713200,\"open\":33421.26305925,\"close\":33361.78507891,\"high\":33421.26305925,\"low\":33198.44208537,\"volume\":1313107546.7,\"market_cap\":625729136771,\"url_shares\":2008,\"unique_url_shares\":905,\"reddit_posts\":37,\"reddit_posts_score\":54,\"reddit_comments\":73,\"reddit_comments_score\":129,\"tweets\":8452,\"tweet_spam\":4729,\"tweet_followers\":31754861,\"tweet_quotes\":60,\"tweet_retweets\":1738,\"tweet_replies\":499,\"tweet_favorites\":5920,\"tweet_sentiment1\":237,\"tweet_sentiment2\":825,\"tweet_sentiment3\":692,\"tweet_sentiment4\":6363,\"tweet_sentiment5\":335,\"tweet_sentiment_impact1\":2379243,\"tweet_sentiment_impact2\":3903047,\"tweet_sentiment_impact3\":3713741,\"tweet_sentiment_impact4\":18891470,\"tweet_sentiment_impact5\":2875577,\"social_score\":31765269,\"average_sentiment\":3.7,\"sentiment_absolute\":3,\"sentiment_relative\":86,\"search_average\":null,\"news\":9,\"price_score\":3.1,\"social_impact_score\":4.1,\"correlation_rank\":2.6,\"galaxy_score\":67.5,\"volatility\":0.01253039,\"alt_rank\":85,\"alt_rank_30d\":11,\"market_cap_rank\":1,\"percent_change_24h_rank\":1488,\"volume_24h_rank\":2,\"social_volume_24h_rank\":1,\"social_score_24h_rank\":1,\"medium\":1,\"youtube\":1,\"social_contributors\":8485,\"social_volume\":9476,\"price_btc\":1,\"social_volume_global\":35294,\"social_dominance\":26.848756162520544,\"market_cap_global\":1509114041926,\"market_dominance\":41.46334335160092,\"percent_change_24h\":-3.174757468460556},{\"asset_id\":1,\"time\":1625716800,\"open\":33357.155942,\"close\":33352.10349311,\"high\":33357.155942,\"low\":33268.80812667,\"volume\":1034217257.94,\"market_cap\":625771994684,\"url_shares\":1763,\"unique_url_shares\":672,\"reddit_posts\":49,\"reddit_posts_score\":159,\"reddit_comments\":87,\"reddit_comments_score\":200,\"tweets\":7795,\"tweet_spam\":4799,\"tweet_followers\":22919705,\"tweet_quotes\":122,\"tweet_retweets\":1377,\"tweet_replies\":492,\"tweet_favorites\":4836,\"tweet_sentiment1\":180,\"tweet_sentiment2\":722,\"tweet_sentiment3\":860,\"tweet_sentiment4\":5728,\"tweet_sentiment5\":305,\"tweet_sentiment_impact1\":203244,\"tweet_sentiment_impact2\":1595703,\"tweet_sentiment_impact3\":1613098,\"tweet_sentiment_impact4\":15301312,\"tweet_sentiment_impact5\":4213175,\"social_score\":22928654,\"average_sentiment\":3.7,\"sentiment_absolute\":3,\"sentiment_relative\":87,\"search_average\":null,\"news\":7,\"price_score\":3.1,\"social_impact_score\":3.6,\"correlation_rank\":2.8,\"galaxy_score\":66,\"volatility\":0.01322278,\"alt_rank\":69,\"alt_rank_30d\":9,\"market_cap_rank\":1,\"percent_change_24h_rank\":1438,\"volume_24h_rank\":2,\"social_volume_24h_rank\":1,\"social_score_24h_rank\":1,\"medium\":null,\"youtube\":null,\"social_contributors\":7962,\"social_volume\":8610,\"price_btc\":1,\"social_volume_global\":34356,\"social_dominance\":25.06112469437653,\"market_cap_global\":1504920840806,\"market_dominance\":41.58172162389959,\"percent_change_24h\":-3.902306094234241},{\"asset_id\":1,\"time\":1625720400,\"open\":33322.22308304,\"close\":32882.90282513,\"high\":33322.22308304,\"low\":32882.90282513,\"volume\":1268250325.11,\"market_cap\":622083357587,\"url_shares\":2065,\"unique_url_shares\":698,\"reddit_posts\":102,\"reddit_posts_score\":219,\"reddit_comments\":97,\"reddit_comments_score\":296,\"tweets\":7562,\"tweet_spam\":5687,\"tweet_followers\":31198134,\"tweet_quotes\":139,\"tweet_retweets\":1385,\"tweet_replies\":577,\"tweet_favorites\":4788,\"tweet_sentiment1\":172,\"tweet_sentiment2\":783,\"tweet_sentiment3\":1051,\"tweet_sentiment4\":5253,\"tweet_sentiment5\":303,\"tweet_sentiment_impact1\":3367518,\"tweet_sentiment_impact2\":3922481,\"tweet_sentiment_impact3\":7098174,\"tweet_sentiment_impact4\":14366969,\"tweet_sentiment_impact5\":2449881,\"social_score\":31207603,\"average_sentiment\":3.6,\"sentiment_absolute\":3,\"sentiment_relative\":85,\"search_average\":null,\"news\":15,\"price_score\":3.2,\"social_impact_score\":3.6,\"correlation_rank\":2.7,\"galaxy_score\":65.5,\"volatility\":0.01464357,\"alt_rank\":63,\"alt_rank_30d\":22,\"market_cap_rank\":1,\"percent_change_24h_rank\":1471,\"volume_24h_rank\":2,\"social_volume_24h_rank\":1,\"social_score_24h_rank\":1,\"medium\":null,\"youtube\":null,\"social_contributors\":8405,\"social_volume\":8474,\"price_btc\":1,\"social_volume_global\":34895,\"social_dominance\":24.284281415675597,\"market_cap_global\":1487269487324,\"market_dominance\":41.827211738626886,\"percent_change_24h\":-5.492242772061225},{\"asset_id\":1,\"time\":1625724000,\"open\":32873.06122533,\"close\":33070.16215491,\"high\":33369.07101699,\"low\":32873.06122533,\"volume\":1629549437.94,\"market_cap\":621163827614,\"url_shares\":2508,\"unique_url_shares\":821,\"reddit_posts\":66,\"reddit_posts_score\":161,\"reddit_comments\":105,\"reddit_comments_score\":214,\"tweets\":9544,\"tweet_spam\":7049,\"tweet_followers\":38211605,\"tweet_quotes\":199,\"tweet_retweets\":2755,\"tweet_replies\":1137,\"tweet_favorites\":12526,\"tweet_sentiment1\":218,\"tweet_sentiment2\":1049,\"tweet_sentiment3\":1051,\"tweet_sentiment4\":6779,\"tweet_sentiment5\":447,\"tweet_sentiment_impact1\":1929301,\"tweet_sentiment_impact2\":4367312,\"tweet_sentiment_impact3\":10865229,\"tweet_sentiment_impact4\":15971423,\"tweet_sentiment_impact5\":5094957,\"social_score\":38231105,\"average_sentiment\":3.6,\"sentiment_absolute\":3,\"sentiment_relative\":85,\"search_average\":null,\"news\":10,\"price_score\":3.1,\"social_impact_score\":3.6,\"correlation_rank\":2.8,\"galaxy_score\":65.5,\"volatility\":0.01553562,\"alt_rank\":59,\"alt_rank_30d\":20,\"market_cap_rank\":1,\"percent_change_24h_rank\":1420,\"volume_24h_rank\":2,\"social_volume_24h_rank\":1,\"social_score_24h_rank\":1,\"medium\":null,\"youtube\":null,\"social_contributors\":10815,\"social_volume\":10546,\"price_btc\":1,\"social_volume_global\":42223,\"social_dominance\":24.976908320109892,\"market_cap_global\":1488480618189,\"market_dominance\":41.7314018082248,\"percent_change_24h\":-4.723224841237944},{\"asset_id\":1,\"time\":1625727600,\"open\":33105.24280744,\"close\":32497.31367639,\"high\":33153.32419079,\"low\":32321.8398884,\"volume\":2323679850.03,\"market_cap\":609612910091,\"url_shares\":2525,\"unique_url_shares\":1069,\"reddit_posts\":67,\"reddit_posts_score\":133,\"reddit_comments\":75,\"reddit_comments_score\":171,\"tweets\":10194,\"tweet_spam\":7144,\"tweet_followers\":41503324,\"tweet_quotes\":142,\"tweet_retweets\":2817,\"tweet_replies\":1074,\"tweet_favorites\":10325,\"tweet_sentiment1\":274,\"tweet_sentiment2\":915,\"tweet_sentiment3\":1126,\"tweet_sentiment4\":7387,\"tweet_sentiment5\":492,\"tweet_sentiment_impact1\":2052279,\"tweet_sentiment_impact2\":6674595,\"tweet_sentiment_impact3\":2127677,\"tweet_sentiment_impact4\":26944430,\"tweet_sentiment_impact5\":3718701,\"social_score\":41520511,\"average_sentiment\":3.7,\"sentiment_absolute\":3,\"sentiment_relative\":87,\"search_average\":null,\"news\":26,\"price_score\":3.3,\"social_impact_score\":3.6,\"correlation_rank\":3.2,\"galaxy_score\":69,\"volatility\":0.01743109,\"alt_rank\":60,\"alt_rank_30d\":20,\"market_cap_rank\":1,\"percent_change_24h_rank\":1463,\"volume_24h_rank\":2,\"social_volume_24h_rank\":1,\"social_score_24h_rank\":1,\"medium\":null,\"youtube\":null,\"social_contributors\":11565,\"social_volume\":11431,\"price_btc\":1,\"social_volume_global\":41805,\"social_dominance\":27.3436191843081,\"market_cap_global\":1468012200552,\"market_dominance\":41.52641986638627,\"percent_change_24h\":-6.370519077802769},{\"asset_id\":1,\"time\":1625731200,\"open\":32493.07800563,\"close\":32558.42001897,\"high\":32584.8081671,\"low\":32305.83492771,\"volume\":1679060031.13,\"market_cap\":610121231084,\"url_shares\":2146,\"unique_url_shares\":1350,\"reddit_posts\":62,\"reddit_posts_score\":133,\"reddit_comments\":91,\"reddit_comments_score\":208,\"tweets\":10679,\"tweet_spam\":6557,\"tweet_followers\":44054759,\"tweet_quotes\":115,\"tweet_retweets\":2402,\"tweet_replies\":1340,\"tweet_favorites\":10180,\"tweet_sentiment1\":305,\"tweet_sentiment2\":1264,\"tweet_sentiment3\":1364,\"tweet_sentiment4\":7267,\"tweet_sentiment5\":479,\"tweet_sentiment_impact1\":1698594,\"tweet_sentiment_impact2\":8361004,\"tweet_sentiment_impact3\":4211897,\"tweet_sentiment_impact4\":25244167,\"tweet_sentiment_impact5\":4553134,\"social_score\":44071283,\"average_sentiment\":3.6,\"sentiment_absolute\":3,\"sentiment_relative\":83,\"search_average\":null,\"news\":15,\"price_score\":3.2,\"social_impact_score\":3.6,\"correlation_rank\":3.3,\"galaxy_score\":68.5,\"volatility\":0.01869611,\"alt_rank\":57,\"alt_rank_30d\":24,\"market_cap_rank\":1,\"percent_change_24h_rank\":1459,\"volume_24h_rank\":3,\"social_volume_24h_rank\":1,\"social_score_24h_rank\":1,\"medium\":null,\"youtube\":null,\"social_contributors\":10923,\"social_volume\":12197,\"price_btc\":1,\"social_volume_global\":47606,\"social_dominance\":25.62072007730118,\"market_cap_global\":1474377671028,\"market_dominance\":41.38161090425339,\"percent_change_24h\":-6.438061449629013},{\"asset_id\":1,\"time\":1625734800,\"open\":32562.96788946,\"close\":32568.46176292,\"high\":32601.78945442,\"low\":32458.29898112,\"volume\":1183371842.6,\"market_cap\":611199858926,\"url_shares\":2204,\"unique_url_shares\":1274,\"reddit_posts\":63,\"reddit_posts_score\":85,\"reddit_comments\":101,\"reddit_comments_score\":182,\"tweets\":10111,\"tweet_spam\":11603,\"tweet_followers\":35676886,\"tweet_quotes\":61,\"tweet_retweets\":1557,\"tweet_replies\":765,\"tweet_favorites\":5177,\"tweet_sentiment1\":317,\"tweet_sentiment2\":1030,\"tweet_sentiment3\":1206,\"tweet_sentiment4\":7106,\"tweet_sentiment5\":452,\"tweet_sentiment_impact1\":1314137,\"tweet_sentiment_impact2\":7575360,\"tweet_sentiment_impact3\":3821075,\"tweet_sentiment_impact4\":19878367,\"tweet_sentiment_impact5\":3095507,\"social_score\":35686917,\"average_sentiment\":3.6,\"sentiment_absolute\":3,\"sentiment_relative\":85,\"search_average\":null,\"news\":24,\"price_score\":3.1,\"social_impact_score\":3.6,\"correlation_rank\":3.2,\"galaxy_score\":67.5,\"volatility\":0.01975624,\"alt_rank\":52,\"alt_rank_30d\":23,\"market_cap_rank\":1,\"percent_change_24h_rank\":1398,\"volume_24h_rank\":3,\"social_volume_24h_rank\":1,\"social_score_24h_rank\":1,\"medium\":null,\"youtube\":null,\"social_contributors\":14755,\"social_volume\":11573,\"price_btc\":1,\"social_volume_global\":47472,\"social_dominance\":24.378581058308054,\"market_cap_global\":1469351578289,\"market_dominance\":41.59657007601389,\"percent_change_24h\":-6.103211489770328},{\"asset_id\":1,\"time\":1625738400,\"open\":32553.51097176,\"close\":32474.26475272,\"high\":32631.36086371,\"low\":32458.73886179,\"volume\":1109650544.38,\"market_cap\":610126391366,\"url_shares\":2208,\"unique_url_shares\":1194,\"reddit_posts\":47,\"reddit_posts_score\":57,\"reddit_comments\":68,\"reddit_comments_score\":81,\"tweets\":9940,\"tweet_spam\":10567,\"tweet_followers\":66527409,\"tweet_quotes\":127,\"tweet_retweets\":2349,\"tweet_replies\":1070,\"tweet_favorites\":10905,\"tweet_sentiment1\":305,\"tweet_sentiment2\":1062,\"tweet_sentiment3\":1362,\"tweet_sentiment4\":6779,\"tweet_sentiment5\":432,\"tweet_sentiment_impact1\":1241800,\"tweet_sentiment_impact2\":25223845,\"tweet_sentiment_impact3\":7877799,\"tweet_sentiment_impact4\":28982967,\"tweet_sentiment_impact5\":3215449,\"social_score\":66544206,\"average_sentiment\":3.6,\"sentiment_absolute\":3,\"sentiment_relative\":84,\"search_average\":null,\"news\":24,\"price_score\":3.1,\"social_impact_score\":3.6,\"correlation_rank\":3,\"galaxy_score\":66.5,\"volatility\":0.0208085,\"alt_rank\":52,\"alt_rank_30d\":20,\"market_cap_rank\":1,\"percent_change_24h_rank\":1397,\"volume_24h_rank\":3,\"social_volume_24h_rank\":1,\"social_score_24h_rank\":1,\"medium\":1,\"youtube\":null,\"social_contributors\":13252,\"social_volume\":11273,\"price_btc\":1,\"social_volume_global\":43846,\"social_dominance\":25.71044108926698,\"market_cap_global\":1461102056606,\"market_dominance\":41.7579585633645,\"percent_change_24h\":-6.200364862658138},{\"asset_id\":1,\"time\":1625742000,\"open\":32472.81790417,\"close\":32681.61020206,\"high\":32681.61020206,\"low\":32257.9179052,\"volume\":1679500723.46,\"market_cap\":612048223017,\"url_shares\":2833,\"unique_url_shares\":1211,\"reddit_posts\":1,\"reddit_posts_score\":1,\"reddit_comments\":2,\"reddit_comments_score\":1,\"tweets\":10237,\"tweet_spam\":11862,\"tweet_followers\":67880498,\"tweet_quotes\":144,\"tweet_retweets\":1923,\"tweet_replies\":1365,\"tweet_favorites\":9029,\"tweet_sentiment1\":401,\"tweet_sentiment2\":1219,\"tweet_sentiment3\":1160,\"tweet_sentiment4\":6930,\"tweet_sentiment5\":527,\"tweet_sentiment_impact1\":1731975,\"tweet_sentiment_impact2\":7989198,\"tweet_sentiment_impact3\":5808195,\"tweet_sentiment_impact4\":48618828,\"tweet_sentiment_impact5\":3744763,\"social_score\":67895792,\"average_sentiment\":3.6,\"sentiment_absolute\":3,\"sentiment_relative\":82,\"search_average\":null,\"news\":19,\"price_score\":3,\"social_impact_score\":3.6,\"correlation_rank\":3,\"galaxy_score\":66,\"volatility\":0.02144872,\"alt_rank\":50,\"alt_rank_30d\":20,\"market_cap_rank\":1,\"percent_change_24h_rank\":1361,\"volume_24h_rank\":3,\"social_volume_24h_rank\":1,\"social_score_24h_rank\":1,\"medium\":null,\"youtube\":null,\"social_contributors\":13598,\"social_volume\":11470,\"price_btc\":1,\"social_volume_global\":47468,\"social_dominance\":24.163647088564925,\"market_cap_global\":1470750434909,\"market_dominance\":41.61468924228939,\"percent_change_24h\":-6.171528114541118},{\"asset_id\":1,\"time\":1625745600,\"open\":32765.11432347,\"close\":32620.19651693,\"high\":32765.11432347,\"low\":32594.46679269,\"volume\":373650905.49,\"market_cap\":611659054095,\"url_shares\":2394,\"unique_url_shares\":1304,\"reddit_posts\":null,\"reddit_posts_score\":null,\"reddit_comments\":null,\"reddit_comments_score\":null,\"tweets\":11501,\"tweet_spam\":10567,\"tweet_followers\":50169357,\"tweet_quotes\":109,\"tweet_retweets\":1247,\"tweet_replies\":581,\"tweet_favorites\":4883,\"tweet_sentiment1\":384,\"tweet_sentiment2\":1393,\"tweet_sentiment3\":1130,\"tweet_sentiment4\":8041,\"tweet_sentiment5\":553,\"tweet_sentiment_impact1\":2520728,\"tweet_sentiment_impact2\":11728096,\"tweet_sentiment_impact3\":5198754,\"tweet_sentiment_impact4\":27121622,\"tweet_sentiment_impact5\":3606977,\"social_score\":50178571,\"average_sentiment\":3.6,\"sentiment_absolute\":3,\"sentiment_relative\":83,\"search_average\":null,\"news\":14,\"price_score\":3,\"social_impact_score\":4.1,\"correlation_rank\":3,\"galaxy_score\":68.5,\"volatility\":0.02208279,\"alt_rank\":43,\"alt_rank_30d\":19,\"market_cap_rank\":1,\"percent_change_24h_rank\":1364,\"volume_24h_rank\":3,\"social_volume_24h_rank\":1,\"social_score_24h_rank\":1,\"medium\":null,\"youtube\":null,\"social_contributors\":10032,\"social_volume\":12819,\"price_btc\":1,\"social_volume_global\":48103,\"social_dominance\":26.64906554684739,\"percent_change_24h\":-6.31}],\"social_dominance_calc_24h_previous\":0,\"social_contributors_calc_24h_previous\":178992,\"url_shares_calc_24h_previous\":69366,\"tweet_spam_calc_24h_previous\":163122,\"news_calc_24h_previous\":461,\"average_sentiment_calc_24h_previous\":3.6,\"social_score_calc_24h_previous\":1195786962,\"social_volume_calc_24h_previous\":306121,\"alt_rank_30d_calc_24h_previous\":8,\"alt_rank_calc_24h_previous\":53,\"social_dominance_calc_24h\":0,\"social_dominance_calc_24h_percent\":0,\"social_contributors_calc_24h\":176694,\"social_contributors_calc_24h_percent\":98.71614373826763,\"url_shares_calc_24h\":63652,\"url_shares_calc_24h_percent\":91.76253495949024,\"tweet_spam_calc_24h\":175284,\"tweet_spam_calc_24h_percent\":107.4557693015044,\"news_calc_24h\":431,\"news_calc_24h_percent\":93.49240780911063,\"average_sentiment_calc_24h\":3.6,\"average_sentiment_calc_24h_percent\":100,\"social_score_calc_24h\":1176350812,\"social_score_calc_24h_percent\":98.37461432365073,\"social_volume_calc_24h\":278683,\"social_volume_calc_24h_percent\":91.03687757455386,\"volatility_1y_previous\":0.00760053,\"market_cap_1y_previous\":173581669871,\"youtube_1y_previous\":10255,\"medium_1y_previous\":2452,\"bearish_sentiment_1y_previous\":1957028,\"bullish_sentiment_1y_previous\":20601500,\"reddit_volume_1y_previous\":927036,\"social_dominance_1y_previous\":12.642216639571652,\"average_sentiment_1y_previous\":3.66568,\"social_contributors_1y_previous\":25323,\"twitter_volume_1y_previous\":24179002,\"url_shares_1y_previous\":7148449,\"tweet_spam_1y_previous\":3370881,\"news_1y_previous\":130347,\"social_score_1y_previous\":100571467445,\"social_volume_1y_previous\":29845319,\"correlation_rank_1y_previous\":3,\"alt_rank_1y_previous\":53,\"galaxy_score_1y_previous\":69,\"data_points_1y_previous\":365,\"volatility_1y_percent_change\":190.54276478087712,\"market_cap_1y_percent_change\":252.84294007781315,\"youtube_1y_percent_change\":53.01803998049732,\"medium_1y_percent_change\":95.2283849918434,\"bearish_sentiment_1y_percent_change\":452.8240781429801,\"bullish_sentiment_1y_percent_change\":199.8163046380118,\"reddit_volume_1y_percent_change\":84.49154078158777,\"social_dominance_1y_percent_change\":110.79424840286806,\"average_sentiment_1y_percent_change\":-1.3209008969686422,\"social_contributors_1y_percent_change\":219.59878371440982,\"twitter_volume_1y_percent_change\":213.63869360695696,\"url_shares_1y_percent_change\":118.08403473256925,\"tweet_spam_1y_percent_change\":747.5903777083795,\"news_1y_percent_change\":83.88301993908567,\"social_score_1y_percent_change\":301.3655887578165,\"social_volume_1y_percent_change\":189.2063040103542,\"correlation_rank_1y_percent_change\":0,\"alt_rank_1y_percent_change\":-20.754716981132077,\"galaxy_score_1y_percent_change\":-1.4492753623188406,\"volatility_1y\":0.02208279,\"market_cap_1y\":612470667409,\"youtube_1y\":15692,\"medium_1y\":4787,\"bearish_sentiment_1y\":10818922,\"bullish_sentiment_1y\":61766656,\"reddit_volume_1y\":1710303,\"social_dominance_1y\":36.56208748828717,\"average_sentiment_1y\":3.61726,\"social_contributors_1y\":80932,\"twitter_volume_1y\":75834706,\"url_shares_1y\":15589626,\"tweet_spam_1y\":28571263,\"news_1y\":239686,\"social_score_1y\":403659262433,\"social_volume_1y\":86314544,\"correlation_rank_1y\":3,\"alt_rank_1y\":42,\"galaxy_score_1y\":68,\"data_points_1y\":365,\"close_1y_previous\":9274.473312,\"asset_id\":1,\"time\":1625745600,\"open\":32765.11432347,\"high\":32765.11432347,\"low\":32594.46679269,\"volume\":373650905.49,\"url_shares\":2394,\"unique_url_shares\":1304,\"reddit_posts\":1,\"reddit_posts_score\":1,\"reddit_comments\":2,\"reddit_comments_score\":1,\"tweets\":11501,\"tweet_spam\":10567,\"tweet_followers\":50169357,\"tweet_quotes\":109,\"tweet_retweets\":1247,\"tweet_replies\":581,\"tweet_favorites\":4883,\"tweet_sentiment1\":384,\"tweet_sentiment2\":1393,\"tweet_sentiment3\":1130,\"tweet_sentiment4\":8041,\"tweet_sentiment5\":553,\"tweet_sentiment_impact1\":2520728,\"tweet_sentiment_impact2\":11728096,\"tweet_sentiment_impact3\":5198754,\"tweet_sentiment_impact4\":27121622,\"tweet_sentiment_impact5\":3606977,\"social_score\":50178571,\"average_sentiment\":3.6,\"sentiment_absolute\":3,\"sentiment_relative\":83,\"news\":14,\"price_score\":3,\"social_impact_score\":4.1,\"correlation_rank\":3,\"galaxy_score\":68.5,\"volatility\":0.02208279,\"alt_rank\":43,\"alt_rank_30d\":19,\"market_cap_rank\":1,\"percent_change_24h_rank\":1364,\"volume_24h_rank\":3,\"social_volume_24h_rank\":1,\"social_score_24h_rank\":1,\"medium\":1,\"social_contributors\":10032,\"social_volume\":12819,\"social_volume_global\":48103,\"social_dominance\":26.64906554684739,\"market_cap_global\":1470750434909,\"market_dominance\":41.61468924228939,\"youtube\":1,\"tags\":\"\",\"close\":32663.48041116,\"close_1y\":32663.48041116,\"close_1y_percent_change\":252.1869039064199,\"social_volume_global_1y\":236076630,\"social_volume_global_1y_previous\":77632163,\"market_dominance_1y\":41.526013773564074,\"market_dominance_1y_previous\":50.1214784841275,\"market_dominance_1y_percent_change\":-16.972342993696902}]}'"
      ]
     },
     "execution_count": 6,
     "metadata": {},
     "output_type": "execute_result"
    }
   ],
   "source": [
    "crypto_file"
   ]
  },
  {
   "cell_type": "code",
   "execution_count": 8,
   "id": "216fc313",
   "metadata": {},
   "outputs": [
    {
     "ename": "TypeError",
     "evalue": "byte indices must be integers or slices, not str",
     "output_type": "error",
     "traceback": [
      "\u001b[0;31m---------------------------------------------------------------------------\u001b[0m",
      "\u001b[0;31mTypeError\u001b[0m                                 Traceback (most recent call last)",
      "\u001b[0;32m<ipython-input-8-54fb4689906c>\u001b[0m in \u001b[0;36m<module>\u001b[0;34m\u001b[0m\n\u001b[0;32m----> 1\u001b[0;31m \u001b[0mcoin_test_df\u001b[0m \u001b[0;34m=\u001b[0m \u001b[0mcrypto_file\u001b[0m\u001b[0;34m[\u001b[0m\u001b[0;34m\"data\"\u001b[0m\u001b[0;34m]\u001b[0m\u001b[0;34m[\u001b[0m\u001b[0;36m0\u001b[0m\u001b[0;34m]\u001b[0m\u001b[0;34m[\u001b[0m\u001b[0;34m\"average_sentiment_1y_percent_change\"\u001b[0m\u001b[0;34m]\u001b[0m\u001b[0;34m\u001b[0m\u001b[0;34m\u001b[0m\u001b[0m\n\u001b[0m",
      "\u001b[0;31mTypeError\u001b[0m: byte indices must be integers or slices, not str"
     ]
    }
   ],
   "source": [
    "  coin_test_df = crypto_file[\"data\"][0][\"average_sentiment_1y_percent_change\"]"
   ]
  },
  {
   "cell_type": "code",
   "execution_count": 11,
   "id": "57866417",
   "metadata": {},
   "outputs": [
    {
     "ename": "ValueError",
     "evalue": "DataFrame constructor not properly called!",
     "output_type": "error",
     "traceback": [
      "\u001b[0;31m---------------------------------------------------------------------------\u001b[0m",
      "\u001b[0;31mValueError\u001b[0m                                Traceback (most recent call last)",
      "\u001b[0;32m<ipython-input-11-730154ee4236>\u001b[0m in \u001b[0;36m<module>\u001b[0;34m\u001b[0m\n\u001b[0;32m----> 1\u001b[0;31m \u001b[0mpd\u001b[0m\u001b[0;34m.\u001b[0m\u001b[0mDataFrame\u001b[0m\u001b[0;34m.\u001b[0m\u001b[0mfrom_dict\u001b[0m\u001b[0;34m(\u001b[0m\u001b[0mcrypto_file\u001b[0m\u001b[0;34m)\u001b[0m\u001b[0;34m\u001b[0m\u001b[0;34m\u001b[0m\u001b[0m\n\u001b[0m",
      "\u001b[0;32m~/opt/anaconda3/lib/python3.8/site-packages/pandas/core/frame.py\u001b[0m in \u001b[0;36mfrom_dict\u001b[0;34m(cls, data, orient, dtype, columns)\u001b[0m\n\u001b[1;32m   1371\u001b[0m             \u001b[0;32mraise\u001b[0m \u001b[0mValueError\u001b[0m\u001b[0;34m(\u001b[0m\u001b[0;34m\"only recognize index or columns for orient\"\u001b[0m\u001b[0;34m)\u001b[0m\u001b[0;34m\u001b[0m\u001b[0;34m\u001b[0m\u001b[0m\n\u001b[1;32m   1372\u001b[0m \u001b[0;34m\u001b[0m\u001b[0m\n\u001b[0;32m-> 1373\u001b[0;31m         \u001b[0;32mreturn\u001b[0m \u001b[0mcls\u001b[0m\u001b[0;34m(\u001b[0m\u001b[0mdata\u001b[0m\u001b[0;34m,\u001b[0m \u001b[0mindex\u001b[0m\u001b[0;34m=\u001b[0m\u001b[0mindex\u001b[0m\u001b[0;34m,\u001b[0m \u001b[0mcolumns\u001b[0m\u001b[0;34m=\u001b[0m\u001b[0mcolumns\u001b[0m\u001b[0;34m,\u001b[0m \u001b[0mdtype\u001b[0m\u001b[0;34m=\u001b[0m\u001b[0mdtype\u001b[0m\u001b[0;34m)\u001b[0m\u001b[0;34m\u001b[0m\u001b[0;34m\u001b[0m\u001b[0m\n\u001b[0m\u001b[1;32m   1374\u001b[0m \u001b[0;34m\u001b[0m\u001b[0m\n\u001b[1;32m   1375\u001b[0m     def to_numpy(\n",
      "\u001b[0;32m~/opt/anaconda3/lib/python3.8/site-packages/pandas/core/frame.py\u001b[0m in \u001b[0;36m__init__\u001b[0;34m(self, data, index, columns, dtype, copy)\u001b[0m\n\u001b[1;32m    588\u001b[0m         \u001b[0;32melse\u001b[0m\u001b[0;34m:\u001b[0m\u001b[0;34m\u001b[0m\u001b[0;34m\u001b[0m\u001b[0m\n\u001b[1;32m    589\u001b[0m             \u001b[0;32mif\u001b[0m \u001b[0mindex\u001b[0m \u001b[0;32mis\u001b[0m \u001b[0;32mNone\u001b[0m \u001b[0;32mor\u001b[0m \u001b[0mcolumns\u001b[0m \u001b[0;32mis\u001b[0m \u001b[0;32mNone\u001b[0m\u001b[0;34m:\u001b[0m\u001b[0;34m\u001b[0m\u001b[0;34m\u001b[0m\u001b[0m\n\u001b[0;32m--> 590\u001b[0;31m                 \u001b[0;32mraise\u001b[0m \u001b[0mValueError\u001b[0m\u001b[0;34m(\u001b[0m\u001b[0;34m\"DataFrame constructor not properly called!\"\u001b[0m\u001b[0;34m)\u001b[0m\u001b[0;34m\u001b[0m\u001b[0;34m\u001b[0m\u001b[0m\n\u001b[0m\u001b[1;32m    591\u001b[0m \u001b[0;34m\u001b[0m\u001b[0m\n\u001b[1;32m    592\u001b[0m             \u001b[0;32mif\u001b[0m \u001b[0;32mnot\u001b[0m \u001b[0mdtype\u001b[0m\u001b[0;34m:\u001b[0m\u001b[0;34m\u001b[0m\u001b[0;34m\u001b[0m\u001b[0m\n",
      "\u001b[0;31mValueError\u001b[0m: DataFrame constructor not properly called!"
     ]
    }
   ],
   "source": [
    "pd.DataFrame.from_dict(crypto_file)"
   ]
  },
  {
   "cell_type": "code",
   "execution_count": null,
   "id": "f37a377c",
   "metadata": {},
   "outputs": [],
   "source": []
  },
  {
   "cell_type": "code",
   "execution_count": null,
   "id": "ac4ea8bb",
   "metadata": {},
   "outputs": [],
   "source": []
  },
  {
   "cell_type": "code",
   "execution_count": null,
   "id": "36edef2a",
   "metadata": {},
   "outputs": [],
   "source": []
  },
  {
   "cell_type": "code",
   "execution_count": null,
   "id": "0368def5",
   "metadata": {},
   "outputs": [],
   "source": []
  },
  {
   "cell_type": "code",
   "execution_count": null,
   "id": "4349a1d7",
   "metadata": {},
   "outputs": [],
   "source": []
  }
 ],
 "metadata": {
  "kernelspec": {
   "display_name": "Python 3",
   "language": "python",
   "name": "python3"
  },
  "language_info": {
   "codemirror_mode": {
    "name": "ipython",
    "version": 3
   },
   "file_extension": ".py",
   "mimetype": "text/x-python",
   "name": "python",
   "nbconvert_exporter": "python",
   "pygments_lexer": "ipython3",
   "version": "3.8.5"
  }
 },
 "nbformat": 4,
 "nbformat_minor": 5
}
